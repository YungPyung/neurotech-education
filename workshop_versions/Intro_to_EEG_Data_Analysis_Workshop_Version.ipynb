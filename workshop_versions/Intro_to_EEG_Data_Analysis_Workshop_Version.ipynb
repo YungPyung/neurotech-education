{
  "nbformat": 4,
  "nbformat_minor": 0,
  "metadata": {
    "colab": {
      "provenance": [],
      "include_colab_link": true
    },
    "kernelspec": {
      "name": "python3",
      "display_name": "Python 3"
    },
    "language_info": {
      "name": "python"
    }
  },
  "cells": [
    {
      "cell_type": "markdown",
      "metadata": {
        "id": "view-in-github",
        "colab_type": "text"
      },
      "source": [
        "<a href=\"https://colab.research.google.com/github/YungPyung/neurotech-education/blob/main/workshop_versions/Intro_to_EEG_Data_Analysis_Workshop_Version.ipynb\" target=\"_parent\"><img src=\"https://colab.research.google.com/assets/colab-badge.svg\" alt=\"Open In Colab\"/></a>"
      ]
    },
    {
      "cell_type": "markdown",
      "source": [
        "**Intro to EEG Data Analysis** Workshop Version | NeuroTech @ UIUC\n",
        "\n",
        "Full example dataset: https://openneuro.org/datasets/ds002722/versions/1.0.1\n",
        "\n",
        "Ian Daly, Nicoletta Nicolaou, Duncan Williams, Faustina Hwang, Alexis Kirke, Eduardo Miranda, and Slawomir J. Nasuto (2020). A dataset recorded during development of an affective brain-computer music interface: calibration session. OpenNeuro https://doi.org/10.18112/openneuro.ds002722.v1.0.1\n",
        "\n",
        "Copyright University of Reading, 2018. This dataset is licensed by the rights-holder(s)\n",
        "under a Creative Commons Attribution 4.0 International Licence: https://creativecommons.org/licenses/by/4.0/\n",
        "\n",
        "Williams, D., Kirke, A., Miranda, E.R., Daly, I., Hwang, F., Weaver, J., Nasuto, S.J.,\n",
        "“Affective Calibration of Musical Feature Sets in an Emotionally Intelligent Music Composition System”,\n",
        "ACM Trans. Appl. Percept. 14, 3, Article 17 (May 2017), 13 pages. DOI: https://doi.org/10.1145/3059005"
      ],
      "metadata": {
        "id": "TYrG264Cs4nQ"
      }
    },
    {
      "cell_type": "code",
      "source": [
        "# Packages\n",
        "!pip -q install mne\n",
        "!pip -q install gdown"
      ],
      "metadata": {
        "id": "AWTnGlgmsmNE"
      },
      "execution_count": null,
      "outputs": []
    },
    {
      "cell_type": "code",
      "source": [
        "import gdown\n",
        "\n",
        "# Download data file\n",
        "link = \"https://drive.google.com/uc?id=1KUQI03zqiOs4YnwxQ-4KNIIaczNe96AY\"\n",
        "gdown.download(link)"
      ],
      "metadata": {
        "id": "XBXRYTEO6jL8"
      },
      "execution_count": null,
      "outputs": []
    },
    {
      "cell_type": "code",
      "source": [
        "import mne\n",
        "\n",
        "\"\"\"\n",
        "Basic implementations of MNE are messy.\n",
        "\n",
        "Activity 1: https://mne.tools/stable/api/reading_raw_data.html\n",
        "\n",
        "\"\"\"\n",
        "\n",
        "# Google Colab file path\n",
        "path = \"/content/sub-01_task-run1_eeg.edf\"\n",
        "\n",
        "# Load data and plot\n",
        "raw = ???\n",
        "plot = raw.plot()"
      ],
      "metadata": {
        "id": "2MhhDwkS9jIC"
      },
      "execution_count": null,
      "outputs": []
    },
    {
      "cell_type": "code",
      "source": [
        "\n",
        "\"\"\"\n",
        "Let's load a trial interval and create a more appealing plot.\n",
        "\n",
        "Activity 2:\n",
        "Stimulus is at 10 secs, trial ends at 30 secs\n",
        "\n",
        "\"\"\"\n",
        "\n",
        "# Supress unnecessary output except errors\n",
        "mne.set_log_level('ERROR')  # default is 'INFO'\n",
        "\n",
        "# Load data\n",
        "raw = mne.io.read_raw_edf(path)  # preload=False by default to use load_data() separately\n",
        "raw.???  # Crop data to desired range\n",
        "raw.load_data()  # Load data into memory, do not use get_data() for RAW object\n",
        "\n",
        "# Plot data\n",
        "plot = raw.plot(n_channels = 32, scalings=dict(eeg=1e-4), duration=1)\n",
        "\n",
        "# Optional metadata\n",
        "print(raw.info)\n"
      ],
      "metadata": {
        "id": "L8fyC6J-6lVa"
      },
      "execution_count": null,
      "outputs": []
    },
    {
      "cell_type": "code",
      "source": [
        "# Structured plotting\n",
        "raw.set_montage(\"standard_1020\", on_missing=\"ignore\")\n",
        "raw.set_eeg_reference(\"average\")"
      ],
      "metadata": {
        "id": "KJ-J-IG03QLA"
      },
      "execution_count": null,
      "outputs": []
    },
    {
      "cell_type": "code",
      "source": [
        "\"\"\"\n",
        "Let's do some time-frequency analysis!\n",
        "\n",
        "Activity 3: https://mne.tools/stable/generated/mne.io.Raw.html#mne.io.Raw\n",
        "\n",
        "Compute the Power Spectral Density (PSD)\n",
        "\n",
        "\"\"\"\n",
        "\n",
        "raw_example = raw.copy()  # Copy the original raw data\n",
        "psd = raw_example.???(fmax=70)\n",
        "fig = psd.plot(picks='eeg')\n",
        "fig.suptitle(\"EEG Power Spectral Density (0-70 Hz)\")"
      ],
      "metadata": {
        "id": "pPhDhwu9uHWK"
      },
      "execution_count": null,
      "outputs": []
    },
    {
      "cell_type": "code",
      "source": [
        "import matplotlib.pyplot as plt\n",
        "\n",
        "\"\"\"\n",
        "Let's get rid of power line noise by playing with filter parameters.\n",
        "\n",
        "Activity 4: Try it out!\n",
        "\n",
        "\"\"\"\n",
        "\n",
        "# Define filter ranges\n",
        "filter_params = [\n",
        "    {'l_freq': ???, 'h_freq': ???},\n",
        "    {'l_freq': ???, 'h_freq': ???},\n",
        "    {'l_freq': ???, 'h_freq': ???},\n",
        "    {'l_freq': ???, 'h_freq': ???}\n",
        "]\n",
        "\n",
        "# Create a single figure for all PSD plots\n",
        "fig, axes = plt.subplots(len(filter_params), 1, figsize=(15, 15))\n",
        "fig.suptitle(\"Power Spectral Density (PSD) of EEG Data\", fontsize=15)  # Larger font size and adjust position\n",
        "\n",
        "# Apply each filter and plot the PSD\n",
        "for i, params in enumerate(filter_params):\n",
        "    raw_filtered = raw.copy()  # Copy the original raw data\n",
        "    raw_filtered.filter(l_freq=params['l_freq'], h_freq=params['h_freq'])\n",
        "    psd = raw_filtered.compute_psd(fmax=70)\n",
        "    psd.plot(axes=axes[i], show=False)  # Plot on the specified subplot\n",
        "    axes[i].set_title(f\"Low = {params['l_freq']} Hz, High = {params['h_freq']} Hz\", fontsize=12)  # Adjust subtitle font size"
      ],
      "metadata": {
        "id": "nEkeuDye6oF8"
      },
      "execution_count": null,
      "outputs": []
    },
    {
      "cell_type": "markdown",
      "source": [
        "Explore your own implementations! https://mne.tools/stable"
      ],
      "metadata": {
        "id": "1LqJ9zzz8OXP"
      }
    }
  ]
}
